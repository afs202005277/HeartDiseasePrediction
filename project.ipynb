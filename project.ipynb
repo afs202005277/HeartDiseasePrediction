{
 "cells": [
  {
   "cell_type": "markdown",
   "source": [
    "# Project 2 - Supervised Learning"
   ],
   "metadata": {
    "collapsed": false
   }
  },
  {
   "cell_type": "markdown",
   "source": [
    "### Let's first check the data in the **train.csv**"
   ],
   "metadata": {
    "collapsed": false
   }
  },
  {
   "cell_type": "code",
   "execution_count": 26,
   "outputs": [
    {
     "name": "stdout",
     "output_type": "stream",
     "text": [
      "  policy_id  policy_tenure  age_of_car  age_of_policyholder area_cluster   \n",
      "0   ID00001       0.515874        0.05             0.644231           C1  \\\n",
      "1   ID00002       0.672619        0.02             0.375000           C2   \n",
      "2   ID00003       0.841110        0.02             0.384615           C3   \n",
      "3   ID00004       0.900277        0.11             0.432692           C4   \n",
      "4   ID00005       0.596403        0.11             0.634615           C5   \n",
      "\n",
      "   population_density  make segment model fuel_type  ... is_brake_assist   \n",
      "0                4990     1       A    M1       CNG  ...              No  \\\n",
      "1               27003     1       A    M1       CNG  ...              No   \n",
      "2                4076     1       A    M1       CNG  ...              No   \n",
      "3               21622     1      C1    M2    Petrol  ...             Yes   \n",
      "4               34738     2       A    M3    Petrol  ...              No   \n",
      "\n",
      "  is_power_door_locks is_central_locking  is_power_steering   \n",
      "0                  No                 No                Yes  \\\n",
      "1                  No                 No                Yes   \n",
      "2                  No                 No                Yes   \n",
      "3                 Yes                Yes                Yes   \n",
      "4                 Yes                Yes                Yes   \n",
      "\n",
      "  is_driver_seat_height_adjustable is_day_night_rear_view_mirror is_ecw   \n",
      "0                               No                            No     No  \\\n",
      "1                               No                            No     No   \n",
      "2                               No                            No     No   \n",
      "3                              Yes                           Yes    Yes   \n",
      "4                               No                           Yes    Yes   \n",
      "\n",
      "  is_speed_alert ncap_rating is_claim  \n",
      "0            Yes           0        0  \n",
      "1            Yes           0        0  \n",
      "2            Yes           0        0  \n",
      "3            Yes           2        0  \n",
      "4            Yes           2        0  \n",
      "\n",
      "[5 rows x 44 columns]\n"
     ]
    }
   ],
   "source": [
    "import numpy as np\n",
    "import pandas as pd\n",
    "import matplotlib.pyplot as plt\n",
    "import seaborn as sb\n",
    "from sklearn.model_selection import train_test_split, StratifiedKFold\n",
    "from sklearn.metrics import confusion_matrix, precision_score, recall_score, accuracy_score, f1_score\n",
    "from sklearn.tree import DecisionTreeClassifier\n",
    "from sklearn.neural_network import MLPClassifier\n",
    "from sklearn.neighbors import KNeighborsClassifier\n",
    "from sklearn.svm import SVC\n",
    "from sklearn.preprocessing import LabelEncoder\n",
    "import time\n",
    "\n",
    "train_data = pd.read_csv('train.csv')\n",
    "\n",
    "print(train_data.head())"
   ],
   "metadata": {
    "collapsed": false,
    "ExecuteTime": {
     "start_time": "2023-04-29T11:54:08.357365Z",
     "end_time": "2023-04-29T11:54:08.539035Z"
    }
   }
  },
  {
   "cell_type": "markdown",
   "source": [
    "### Let's check if there are columns with missing values\n",
    "### And change the non-numeric columns to numeric"
   ],
   "metadata": {
    "collapsed": false,
    "pycharm": {
     "name": "#%% md\n"
    }
   }
  },
  {
   "cell_type": "code",
   "execution_count": null,
   "outputs": [],
   "source": [
    "cols_with_na = train_data.columns[train_data.isna().any()].tolist()\n",
    "print('Columns with missing values:', cols_with_na)\n",
    "\n",
    "train_data['policy_id'] = train_data['policy_id'].apply(lambda x: x.replace('ID', ''))\n",
    "train_data['area_cluster'] = train_data['area_cluster'].apply(lambda x: x.replace('C', ''))\n",
    "train_data = pd.get_dummies(train_data, columns=['segment', 'fuel_type', 'engine_type', 'rear_brakes_type', 'steering_type'])\n",
    "train_data['model'] = train_data['model'].apply(lambda x: x.replace('M', ''))\n",
    "train_data = train_data.replace({\"Yes\": True, \"No\": False})\n",
    "encoder = LabelEncoder()\n",
    "train_data['transmission_type'] = encoder.fit_transform(train_data['transmission_type'])\n",
    "\n",
    "train_data['max_torque'] = train_data['max_torque'].apply(lambda s: float(s.split('Nm@')[0]) * float(s.split('Nm@')[1].replace('rpm', '')))\n",
    "train_data['max_power'] = train_data['max_power'].apply(lambda s: float(s.split('bhp@')[0]) * float(s.split('bhp@')[1].replace('rpm', '')))\n"
   ],
   "metadata": {
    "collapsed": false,
    "pycharm": {
     "name": "#%%\n"
    }
   }
  },
  {
   "cell_type": "markdown",
   "source": [
    "As we can see, there are no missing values in our data set\n",
    "\n",
    "### Let's now get some more general information of our features"
   ],
   "metadata": {
    "collapsed": false,
    "pycharm": {
     "name": "#%% md\n"
    }
   }
  },
  {
   "cell_type": "code",
   "execution_count": null,
   "outputs": [],
   "source": [
    "print(train_data.describe())"
   ],
   "metadata": {
    "collapsed": false,
    "pycharm": {
     "name": "#%%\n"
    }
   }
  },
  {
   "cell_type": "code",
   "execution_count": null,
   "outputs": [],
   "source": [
    "%matplotlib inline\n",
    "\n",
    "sb.pairplot(train_data)"
   ],
   "metadata": {
    "collapsed": false,
    "pycharm": {
     "name": "#%%\n"
    }
   }
  },
  {
   "cell_type": "markdown",
   "source": [
    "After some investigating, there are no major outliers that require work.\n",
    "There are some variables that seem to have no correlation with the `is_claim` feature\n",
    "\n",
    "### Now let's check what features have no correlation with the test feature"
   ],
   "metadata": {
    "collapsed": false,
    "pycharm": {
     "name": "#%% md\n"
    }
   }
  },
  {
   "cell_type": "code",
   "execution_count": null,
   "outputs": [],
   "source": [
    "\n",
    "numeric_columns = train_data.select_dtypes(include='number')\n",
    "train_data_numeric = train_data[numeric_columns.columns]\n",
    "\n",
    "correlation_matrix = train_data_numeric.corr()\n",
    "\n",
    "# Creating the subsets without the highly correlated features\n",
    "corr_cols08 = set()\n",
    "corr_cols09 = set()\n",
    "for i in range(len(correlation_matrix.columns)):\n",
    "    for j in range(i):\n",
    "        if correlation_matrix.columns[i] != correlation_matrix.columns[j] and abs(correlation_matrix.iloc[i, j]) > 0.8:\n",
    "            colname = correlation_matrix.columns[j]\n",
    "            corr_cols08.add(colname)\n",
    "\n",
    "        if correlation_matrix.columns[i] != correlation_matrix.columns[j] and abs(correlation_matrix.iloc[i, j]) > 0.9:\n",
    "            colname = correlation_matrix.columns[j]\n",
    "            corr_cols09.add(colname)\n",
    "\n",
    "\n",
    "train_data_08 = train_data_numeric.drop(columns=corr_cols08)\n",
    "train_data_09 = train_data_numeric.drop(columns=corr_cols09)\n",
    "\n",
    "plt.figure(figsize=(12, 9))\n",
    "sb.heatmap(correlation_matrix, annot=True, cmap='coolwarm', fmt='.2f', linewidths=0.5)\n",
    "plt.title('Correlation Matrix')\n",
    "plt.show()"
   ],
   "metadata": {
    "collapsed": false,
    "pycharm": {
     "name": "#%%\n"
    }
   }
  },
  {
   "cell_type": "code",
   "execution_count": null,
   "outputs": [],
   "source": [
    "non_numeric_columns = train_data.select_dtypes(exclude='number')\n",
    "\n",
    "for column in non_numeric_columns:\n",
    "    if 'id' in column: continue\n",
    "    crosstab_table = pd.crosstab(train_data[column], train_data['is_claim'])\n",
    "    crosstab_table.plot(kind='bar', stacked=True)\n",
    "\n",
    "    plt.title(f'Crosstab for {column}')\n",
    "    plt.xlabel(column)\n",
    "    plt.ylabel('Count')\n",
    "\n",
    "    plt.show()\n",
    "\n"
   ],
   "metadata": {
    "collapsed": false,
    "pycharm": {
     "name": "#%%\n"
    }
   }
  },
  {
   "cell_type": "markdown",
   "source": [
    "Numeric features don't correlate with the `is_claim` feature, most probably because it is a binary feature and not a number one.\n",
    "But there are others features that correlate with each other, which might give more strength to those values, something that we want to avoid.\n",
    "A good way of avoiding it is to remove the column that correlate too much with another (>= 0.85)\n",
    "\n",
    "In non-numeric features we didn't get a clear separation but there are some choices that are more favorable. For example in the feature `segment`, people insure more an `A` than a `Utility` value"
   ],
   "metadata": {
    "collapsed": false,
    "pycharm": {
     "name": "#%% md\n"
    }
   }
  },
  {
   "cell_type": "markdown",
   "source": [
    "### Let's now dive into the classifier methods\n",
    "\n",
    "We have done an initial comparison of all the algorithms"
   ],
   "metadata": {
    "collapsed": false,
    "pycharm": {
     "name": "#%% md\n"
    }
   }
  },
  {
   "cell_type": "code",
   "execution_count": null,
   "outputs": [],
   "source": [
    "classifiers = {\n",
    "    'Decision Tree': DecisionTreeClassifier(),\n",
    "    'Neural Network': MLPClassifier(),\n",
    "    'K-NN': KNeighborsClassifier(),\n",
    "    'SVM': SVC()\n",
    "}\n",
    "target_column = \"is_claim\"\n",
    "X = train_data.drop(target_column, axis=1)\n",
    "y = train_data[target_column]\n",
    "\n",
    "X_train, X_test, y_train, y_test = train_test_split(X, y, test_size=0.3, random_state=42)"
   ],
   "metadata": {
    "collapsed": false,
    "pycharm": {
     "name": "#%%\n"
    }
   }
  },
  {
   "cell_type": "code",
   "execution_count": null,
   "outputs": [],
   "source": [
    "# Train and evaluate the classifiers\n",
    "results = []\n",
    "\n",
    "for (name, classifier) in classifiers.items():\n",
    "\n",
    "    print((name, classifier))\n",
    "    # Train the model\n",
    "    start_time = time.time()\n",
    "    classifier.fit(X_train, y_train)\n",
    "    train_time = time.time() - start_time\n",
    "\n",
    "    # Test the model\n",
    "    start_time = time.time()\n",
    "    y_pred = classifier.predict(X_test)\n",
    "    test_time = time.time() - start_time\n",
    "\n",
    "    # Calculate evaluation metrics\n",
    "    conf_matrix = confusion_matrix(y_test, y_pred)\n",
    "    precision = precision_score(y_test, y_pred, average='weighted', zero_division=1)\n",
    "    recall = recall_score(y_test, y_pred, average='weighted')\n",
    "    accuracy = accuracy_score(y_test, y_pred)\n",
    "    f1 = f1_score(y_test, y_pred, average='weighted')\n",
    "\n",
    "    # Store the results\n",
    "    results.append({\n",
    "        'Classifier': name,\n",
    "        'Confusion Matrix': conf_matrix,\n",
    "        'Precision': precision,\n",
    "        'Recall': recall,\n",
    "        'Accuracy': accuracy,\n",
    "        'F1 Score': f1,\n",
    "        'Train Time': train_time,\n",
    "        'Test Time': test_time\n",
    "    })\n",
    "# Convert the results into a DataFrame\n",
    "results_df = pd.DataFrame(results)\n",
    "\n",
    "# Display the results\n",
    "print(results_df)\n",
    "\n",
    "# Visualize the results (e.g., using Seaborn or Matplotlib)\n",
    "# Example: Plotting the accuracy of different classifiers\n",
    "sb.barplot(x='Classifier', y='Accuracy', data=results_df)\n",
    "plt.show()"
   ],
   "metadata": {
    "collapsed": false,
    "pycharm": {
     "name": "#%%\n"
    }
   }
  },
  {
   "cell_type": "markdown",
   "source": [
    "Numeric features don't correlate with the `is_claim` feature, most probably because it is a binary feature and not a number one.\n",
    "But there are others features that correlate with each other, which might give more strength to those values, something that we want to avoid.\n",
    "A good way of avoiding it is to remove the column that correlate too much with another (>= 0.85)\n",
    "\n",
    "In non-numeric features we didn't get a clear separation but there are some choices that are more favorable. For example in the feature `segment`, people insure more an `A` than a `Utility` value"
   ],
   "metadata": {
    "collapsed": false
   }
  },
  {
   "cell_type": "markdown",
   "source": [
    "### Let's now dive into the classifier methods\n",
    "\n",
    "We have done an initial comparison of all the algorithms"
   ],
   "metadata": {
    "collapsed": false
   }
  },
  {
   "cell_type": "code",
   "execution_count": 32,
   "outputs": [],
   "source": [
    "classifiers = {\n",
    "    'Decision Tree': DecisionTreeClassifier(),\n",
    "    'Neural Network': MLPClassifier(),\n",
    "    'K-NN': KNeighborsClassifier(),\n",
    "    'SVM': SVC()\n",
    "}\n",
    "target_column = \"is_claim\"\n",
    "X = train_data.drop(target_column, axis=1)\n",
    "y = train_data[target_column]\n",
    "\n",
    "X_train, X_test, y_train, y_test = train_test_split(X, y, test_size=0.3, random_state=42)"
   ],
   "metadata": {
    "collapsed": false,
    "ExecuteTime": {
     "start_time": "2023-04-29T12:09:16.601439Z",
     "end_time": "2023-04-29T12:09:16.634339Z"
    }
   }
  },
  {
   "cell_type": "code",
   "execution_count": 33,
   "outputs": [
    {
     "name": "stdout",
     "output_type": "stream",
     "text": [
      "('Decision Tree', DecisionTreeClassifier())\n",
      "('Neural Network', MLPClassifier())\n",
      "('K-NN', KNeighborsClassifier())\n",
      "('SVM', SVC())\n",
      "       Classifier              Confusion Matrix  Precision    Recall   \n",
      "0   Decision Tree  [[15205, 1212], [1048, 113]]   0.879363  0.871430  \\\n",
      "1  Neural Network       [[16416, 1], [1160, 1]]   0.905336  0.933952   \n",
      "2            K-NN      [[16374, 43], [1156, 5]]   0.879243  0.931790   \n",
      "3             SVM       [[16417, 0], [1161, 0]]   0.938314  0.933952   \n",
      "\n",
      "   Accuracy  F1 Score  Train Time  Test Time  \n",
      "0  0.871430  0.875348    0.640292   0.022019  \n",
      "1  0.933952  0.902167   10.908648   0.034030  \n",
      "2  0.931790  0.901511    0.052047   1.087824  \n",
      "3  0.933952  0.902055   13.016479   9.465407  \n"
     ]
    },
    {
     "data": {
      "text/plain": "<Figure size 640x480 with 1 Axes>",
      "image/png": "[encoded data removed]"
     },
     "metadata": {},
     "output_type": "display_data"
    }
   ],
   "source": [
    "# Train and evaluate the classifiers\n",
    "results = []\n",
    "\n",
    "for (name, classifier) in classifiers.items():\n",
    "\n",
    "    print((name, classifier))\n",
    "    # Train the model\n",
    "    start_time = time.time()\n",
    "    classifier.fit(X_train, y_train)\n",
    "    train_time = time.time() - start_time\n",
    "\n",
    "    # Test the model\n",
    "    start_time = time.time()\n",
    "    y_pred = classifier.predict(X_test)\n",
    "    test_time = time.time() - start_time\n",
    "\n",
    "    # Calculate evaluation metrics\n",
    "    conf_matrix = confusion_matrix(y_test, y_pred)\n",
    "    precision = precision_score(y_test, y_pred, average='weighted', zero_division=1)\n",
    "    recall = recall_score(y_test, y_pred, average='weighted')\n",
    "    accuracy = accuracy_score(y_test, y_pred)\n",
    "    f1 = f1_score(y_test, y_pred, average='weighted')\n",
    "\n",
    "    # Store the results\n",
    "    results.append({\n",
    "        'Classifier': name,\n",
    "        'Confusion Matrix': conf_matrix,\n",
    "        'Precision': precision,\n",
    "        'Recall': recall,\n",
    "        'Accuracy': accuracy,\n",
    "        'F1 Score': f1,\n",
    "        'Train Time': train_time,\n",
    "        'Test Time': test_time\n",
    "    })\n",
    "# Convert the results into a DataFrame\n",
    "results_df = pd.DataFrame(results)\n",
    "\n",
    "# Display the results\n",
    "print(results_df)\n",
    "\n",
    "# Visualize the results (e.g., using Seaborn or Matplotlib)\n",
    "# Example: Plotting the accuracy of different classifiers\n",
    "sb.barplot(x='Classifier', y='Accuracy', data=results_df)\n",
    "plt.show()"
   ],
   "metadata": {
    "collapsed": false,
    "ExecuteTime": {
     "start_time": "2023-04-29T12:09:19.475541Z",
     "end_time": "2023-04-29T12:09:54.977756Z"
    }
   }
  },
  {
   "cell_type": "code",
   "execution_count": null,
   "outputs": [],
   "source": [],
   "metadata": {
    "collapsed": false
   }
  }
 ],
 "metadata": {
  "kernelspec": {
   "display_name": "Python 3",
   "language": "python",
   "name": "python3"
  },
  "language_info": {
   "codemirror_mode": {
    "name": "ipython",
    "version": 2
   },
   "file_extension": ".py",
   "mimetype": "text/x-python",
   "name": "python",
   "nbconvert_exporter": "python",
   "pygments_lexer": "ipython2",
   "version": "2.7.6"
  }
 },
 "nbformat": 4,
 "nbformat_minor": 0
}